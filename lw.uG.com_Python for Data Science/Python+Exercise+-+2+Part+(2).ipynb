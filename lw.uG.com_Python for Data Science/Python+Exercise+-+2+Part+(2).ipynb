{
 "cells": [
  {
   "cell_type": "code",
   "execution_count": 2,
   "metadata": {},
   "outputs": [],
   "source": [
    "# employee data with key as id of the employee and values as age of the employee\n",
    "Employee_data ={101: 43, 102: 25, 103: 43, 104: 31, 105: 26, 106: 28, 107: 29, 108: 43, 109: 25, 110: 22, 111: 22, 112: 25, 113: 30, 115: 45, 116: 23, 117: 29, 118: 28, 119: 30, 120: 28, 121: 42, 122: 39, 123: 29, 124: 42, 125: 43, 126: 42, 127: 40, 128: 27, 129: 23, 130: 30, 131: 37, 132: 20, 133: 36, 134: 27, 135: 27, 136: 22, 137: 28, 138: 23, 139: 45, 140: 39, 141: 29, 142: 33, 143: 39, 145: 34, 146: 26, 147: 30, 148: 38, 149: 29, 150: 24, 151: 28, 152: 34, 153: 42, 154: 29, 155: 23, 156: 31, 158: 25, 160: 45, 161: 42, 162: 27, 163: 24, 164: 20, 166: 24, 167: 28, 168: 20, 169: 33, 170: 34, 171: 37, 172: 45, 173: 35, 174: 23, 175: 44, 176: 27, 177: 30, 178: 26, 179: 27} "
   ]
  },
  {
   "cell_type": "markdown",
   "metadata": {},
   "source": [
    "#### Identify the senior most employees age\n",
    "\n",
    "- 45\n",
    "- 44\n",
    "- 48\n",
    "- 42"
   ]
  },
  {
   "cell_type": "code",
   "execution_count": 8,
   "metadata": {},
   "outputs": [
    {
     "data": {
      "text/plain": [
       "45"
      ]
     },
     "execution_count": 8,
     "metadata": {},
     "output_type": "execute_result"
    }
   ],
   "source": [
    "# Type your code here\n",
    "sorted(Employee_data.values())[-1]\n",
    "\n",
    "max(Employee_data.values())"
   ]
  },
  {
   "cell_type": "markdown",
   "metadata": {},
   "source": [
    "#### Identify the age of the employee with employee id 159 [ If the employee isn't present return NA]\n",
    "\n",
    "- 25\n",
    "- 32\n",
    "- NA\n",
    "- 42"
   ]
  },
  {
   "cell_type": "code",
   "execution_count": 11,
   "metadata": {},
   "outputs": [
    {
     "data": {
      "text/plain": [
       "'NA'"
      ]
     },
     "execution_count": 11,
     "metadata": {},
     "output_type": "execute_result"
    }
   ],
   "source": [
    "# Type your code here\n",
    "#Employee_data[159]\n",
    "Employee_data.get(159,'NA')"
   ]
  },
  {
   "cell_type": "markdown",
   "metadata": {},
   "source": [
    "#### Count the total number of employee in the organization\n",
    "\n",
    "- 79\n",
    "- 78\n",
    "- 60\n",
    "- 74"
   ]
  },
  {
   "cell_type": "code",
   "execution_count": 17,
   "metadata": {},
   "outputs": [
    {
     "data": {
      "text/plain": [
       "74"
      ]
     },
     "execution_count": 17,
     "metadata": {},
     "output_type": "execute_result"
    }
   ],
   "source": [
    "# Type your code here\n",
    "keys = len(Employee_data)\n",
    "#keys = len(Employee_data.key())\n",
    "keys\n"
   ]
  },
  {
   "cell_type": "markdown",
   "metadata": {},
   "source": [
    "#### Calculate the mean age of the employees\n",
    "\n",
    "- 31.36\n",
    "- 36.48\n",
    "- 28.77\n",
    "- 32.47"
   ]
  },
  {
   "cell_type": "code",
   "execution_count": 23,
   "metadata": {},
   "outputs": [
    {
     "data": {
      "text/plain": [
       "31.364864864864863"
      ]
     },
     "execution_count": 23,
     "metadata": {},
     "output_type": "execute_result"
    }
   ],
   "source": [
    "# Type your code here\n",
    "#values = Employee_data.values()\n",
    "#sv = sum(values)\n",
    "#count = len(Employee_data)\n",
    "#mean = sv/count\n",
    "#mean\n",
    "sum(Employee_data.values())/74"
   ]
  },
  {
   "cell_type": "markdown",
   "metadata": {},
   "source": [
    "#### Perform the following two tasks and then calculate the updated mean age of the employees\n",
    "Task1 Update the ages of employee id - 104,140, and 164 as 27 <br>\n",
    "Task2 Remove the employ with employee id - 143 <br>\n",
    "\n",
    "- 30.71\n",
    "- 31.36\n",
    "- 30.13\n",
    "- 31.13\n"
   ]
  },
  {
   "cell_type": "code",
   "execution_count": 37,
   "metadata": {},
   "outputs": [],
   "source": [
    "# Type your code here\n",
    "Employee_data.update({104:27,140:27,164:27})"
   ]
  },
  {
   "cell_type": "code",
   "execution_count": 41,
   "metadata": {},
   "outputs": [
    {
     "data": {
      "text/plain": [
       "{101: 43,\n",
       " 102: 25,\n",
       " 103: 43,\n",
       " 104: 27,\n",
       " 105: 26,\n",
       " 106: 28,\n",
       " 107: 29,\n",
       " 108: 43,\n",
       " 109: 25,\n",
       " 110: 22,\n",
       " 111: 22,\n",
       " 112: 25,\n",
       " 113: 30,\n",
       " 115: 45,\n",
       " 116: 23,\n",
       " 117: 29,\n",
       " 118: 28,\n",
       " 119: 30,\n",
       " 120: 28,\n",
       " 121: 42,\n",
       " 122: 39,\n",
       " 123: 29,\n",
       " 124: 42,\n",
       " 125: 43,\n",
       " 126: 42,\n",
       " 127: 40,\n",
       " 128: 27,\n",
       " 129: 23,\n",
       " 130: 30,\n",
       " 131: 37,\n",
       " 132: 20,\n",
       " 133: 36,\n",
       " 134: 27,\n",
       " 135: 27,\n",
       " 136: 22,\n",
       " 137: 28,\n",
       " 138: 23,\n",
       " 139: 45,\n",
       " 140: 27,\n",
       " 141: 29,\n",
       " 142: 33,\n",
       " 145: 34,\n",
       " 146: 26,\n",
       " 147: 30,\n",
       " 148: 38,\n",
       " 149: 29,\n",
       " 150: 24,\n",
       " 151: 28,\n",
       " 152: 34,\n",
       " 153: 42,\n",
       " 154: 29,\n",
       " 155: 23,\n",
       " 156: 31,\n",
       " 158: 25,\n",
       " 160: 45,\n",
       " 161: 42,\n",
       " 162: 27,\n",
       " 163: 24,\n",
       " 164: 27,\n",
       " 166: 24,\n",
       " 167: 28,\n",
       " 168: 20,\n",
       " 169: 33,\n",
       " 170: 34,\n",
       " 171: 37,\n",
       " 172: 45,\n",
       " 173: 35,\n",
       " 174: 23,\n",
       " 175: 44,\n",
       " 176: 27,\n",
       " 177: 30,\n",
       " 178: 26,\n",
       " 179: 27,\n",
       " (104, 140, 164): '27',\n",
       " ('104', '140', '164'): '27'}"
      ]
     },
     "execution_count": 41,
     "metadata": {},
     "output_type": "execute_result"
    }
   ],
   "source": [
    "#del Employee_data[143]\n",
    "Employee_data"
   ]
  },
  {
   "cell_type": "code",
   "execution_count": 50,
   "metadata": {},
   "outputs": [
    {
     "data": {
      "text/plain": [
       "31.136986301369863"
      ]
     },
     "execution_count": 50,
     "metadata": {},
     "output_type": "execute_result"
    }
   ],
   "source": [
    "sum(Employee_data.values())/73"
   ]
  },
  {
   "cell_type": "code",
   "execution_count": 47,
   "metadata": {},
   "outputs": [
    {
     "data": {
      "text/plain": [
       "{101: 43,\n",
       " 102: 25,\n",
       " 103: 43,\n",
       " 104: 27,\n",
       " 105: 26,\n",
       " 106: 28,\n",
       " 107: 29,\n",
       " 108: 43,\n",
       " 109: 25,\n",
       " 110: 22,\n",
       " 111: 22,\n",
       " 112: 25,\n",
       " 113: 30,\n",
       " 115: 45,\n",
       " 116: 23,\n",
       " 117: 29,\n",
       " 118: 28,\n",
       " 119: 30,\n",
       " 120: 28,\n",
       " 121: 42,\n",
       " 122: 39,\n",
       " 123: 29,\n",
       " 124: 42,\n",
       " 125: 43,\n",
       " 126: 42,\n",
       " 127: 40,\n",
       " 128: 27,\n",
       " 129: 23,\n",
       " 130: 30,\n",
       " 131: 37,\n",
       " 132: 20,\n",
       " 133: 36,\n",
       " 134: 27,\n",
       " 135: 27,\n",
       " 136: 22,\n",
       " 137: 28,\n",
       " 138: 23,\n",
       " 139: 45,\n",
       " 140: 27,\n",
       " 141: 29,\n",
       " 142: 33,\n",
       " 145: 34,\n",
       " 146: 26,\n",
       " 147: 30,\n",
       " 148: 38,\n",
       " 149: 29,\n",
       " 150: 24,\n",
       " 151: 28,\n",
       " 152: 34,\n",
       " 153: 42,\n",
       " 154: 29,\n",
       " 155: 23,\n",
       " 156: 31,\n",
       " 158: 25,\n",
       " 160: 45,\n",
       " 161: 42,\n",
       " 162: 27,\n",
       " 163: 24,\n",
       " 164: 27,\n",
       " 166: 24,\n",
       " 167: 28,\n",
       " 168: 20,\n",
       " 169: 33,\n",
       " 170: 34,\n",
       " 171: 37,\n",
       " 172: 45,\n",
       " 173: 35,\n",
       " 174: 23,\n",
       " 175: 44,\n",
       " 176: 27,\n",
       " 177: 30,\n",
       " 178: 26,\n",
       " 179: 27}"
      ]
     },
     "execution_count": 47,
     "metadata": {},
     "output_type": "execute_result"
    }
   ],
   "source": [
    "Employee_data"
   ]
  },
  {
   "cell_type": "code",
   "execution_count": 48,
   "metadata": {},
   "outputs": [
    {
     "data": {
      "text/plain": [
       "73"
      ]
     },
     "execution_count": 48,
     "metadata": {},
     "output_type": "execute_result"
    }
   ],
   "source": [
    "len(Employee_data)"
   ]
  },
  {
   "cell_type": "code",
   "execution_count": 51,
   "metadata": {},
   "outputs": [
    {
     "ename": "KeyError",
     "evalue": "143",
     "output_type": "error",
     "traceback": [
      "\u001b[1;31m---------------------------------------------------------------------------\u001b[0m",
      "\u001b[1;31mKeyError\u001b[0m                                  Traceback (most recent call last)",
      "\u001b[1;32m<ipython-input-51-8de22974ea2d>\u001b[0m in \u001b[0;36m<module>\u001b[1;34m\u001b[0m\n\u001b[0;32m      2\u001b[0m \u001b[0mEmployee_data\u001b[0m\u001b[1;33m[\u001b[0m\u001b[1;36m104\u001b[0m\u001b[1;33m]\u001b[0m \u001b[1;33m=\u001b[0m \u001b[1;36m27\u001b[0m\u001b[1;33m\u001b[0m\u001b[1;33m\u001b[0m\u001b[0m\n\u001b[0;32m      3\u001b[0m \u001b[0mEmployee_data\u001b[0m\u001b[1;33m[\u001b[0m\u001b[1;36m104\u001b[0m\u001b[1;33m]\u001b[0m \u001b[1;33m=\u001b[0m \u001b[1;36m27\u001b[0m\u001b[1;33m\u001b[0m\u001b[1;33m\u001b[0m\u001b[0m\n\u001b[1;32m----> 4\u001b[1;33m \u001b[1;32mdel\u001b[0m \u001b[0mEmployee_data\u001b[0m\u001b[1;33m[\u001b[0m\u001b[1;36m143\u001b[0m\u001b[1;33m]\u001b[0m\u001b[1;33m\u001b[0m\u001b[1;33m\u001b[0m\u001b[0m\n\u001b[0m\u001b[0;32m      5\u001b[0m \u001b[0mlen\u001b[0m\u001b[1;33m(\u001b[0m\u001b[0mEmployee_data\u001b[0m\u001b[1;33m)\u001b[0m\u001b[1;33m\u001b[0m\u001b[1;33m\u001b[0m\u001b[0m\n",
      "\u001b[1;31mKeyError\u001b[0m: 143"
     ]
    }
   ],
   "source": [
    "Employee_data[104] = 27\n",
    "Employee_data[104] = 27\n",
    "Employee_data[104] = 27\n",
    "del Employee_data[143]\n",
    "len(Employee_data)"
   ]
  },
  {
   "cell_type": "code",
   "execution_count": 52,
   "metadata": {},
   "outputs": [
    {
     "data": {
      "text/plain": [
       "31.136986301369863"
      ]
     },
     "execution_count": 52,
     "metadata": {},
     "output_type": "execute_result"
    }
   ],
   "source": [
    "sum(Employee_data.values())/73"
   ]
  },
  {
   "cell_type": "code",
   "execution_count": null,
   "metadata": {},
   "outputs": [],
   "source": []
  }
 ],
 "metadata": {
  "kernelspec": {
   "display_name": "Python 3",
   "language": "python",
   "name": "python3"
  },
  "language_info": {
   "codemirror_mode": {
    "name": "ipython",
    "version": 3
   },
   "file_extension": ".py",
   "mimetype": "text/x-python",
   "name": "python",
   "nbconvert_exporter": "python",
   "pygments_lexer": "ipython3",
   "version": "3.7.6"
  }
 },
 "nbformat": 4,
 "nbformat_minor": 2
}
